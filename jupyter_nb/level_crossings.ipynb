{
 "cells": [
  {
   "cell_type": "code",
   "execution_count": 4,
   "metadata": {},
   "outputs": [
    {
     "output_type": "stream",
     "name": "stdout",
     "text": [
      "Using matplotlib backend: Qt5Agg\nPopulating the interactive namespace from numpy and matplotlib\n"
     ]
    }
   ],
   "source": [
    "%pylab\n",
    "import sys\n",
    "sys.path.append('..')\n",
    "import uit_scripts.shotnoise.gen_shot_noise as gsn\n",
    "import uit_scripts.stat_analysis.excess_stat as exs\n",
    "import uit_scripts.shotnoise.analytic_functions as anf"
   ]
  },
  {
   "cell_type": "code",
   "execution_count": 5,
   "metadata": {},
   "outputs": [
    {
     "output_type": "execute_result",
     "data": {
      "text/plain": [
       "Text(0, 0.5, 'Phi')"
      ]
     },
     "metadata": {},
     "execution_count": 5
    }
   ],
   "source": [
    "gamma = 2.\n",
    "dt = 1e-2\n",
    "K = int(1e4)\n",
    "\n",
    "T, S = gsn.make_signal(gamma, K, dt)\n",
    "\n",
    "plt.close('data')\n",
    "plt.figure('data')\n",
    "plt.plot(T, S)\n",
    "plt.xlabel('t/td')\n",
    "plt.ylabel('Phi')"
   ]
  },
  {
   "cell_type": "code",
   "execution_count": 8,
   "metadata": {},
   "outputs": [],
   "source": [
    "levels = np.linspace(1., 10., 100)\n",
    "tot, cross, avT, _ = exs.excess_stat(S, levels, dt)"
   ]
  },
  {
   "cell_type": "code",
   "execution_count": 9,
   "metadata": {},
   "outputs": [
    {
     "output_type": "execute_result",
     "data": {
      "text/plain": [
       "<matplotlib.legend.Legend at 0x7f1694039280>"
      ]
     },
     "metadata": {},
     "execution_count": 9
    }
   ],
   "source": [
    "plt.close('total time')\n",
    "plt.figure('total time')\n",
    "plt.semilogy(levels, tot, label='estimated')\n",
    "plt.semilogy(levels, T[-1]*anf.eT((levels-gamma)/np.sqrt(gamma), gamma), ':', label='analytic')\n",
    "plt.xlabel('L')\n",
    "plt.ylabel('T (1 - CDF_Phi(L))')\n",
    "plt.legend()"
   ]
  },
  {
   "cell_type": "code",
   "execution_count": 11,
   "metadata": {},
   "outputs": [
    {
     "output_type": "execute_result",
     "data": {
      "text/plain": [
       "<matplotlib.legend.Legend at 0x7f168f0d92b0>"
      ]
     },
     "metadata": {},
     "execution_count": 11
    }
   ],
   "source": [
    "plt.close('crossings')\n",
    "plt.figure('crossings')\n",
    "plt.semilogy(levels, cross, label='estimated')\n",
    "plt.semilogy(levels, (T[-1]+dt)*anf.eX((levels-gamma)/np.sqrt(gamma), gamma, 0), ':', label='analytic')\n",
    "plt.xlabel('L')\n",
    "plt.ylabel('X_Phi(L)')\n",
    "plt.legend()"
   ]
  },
  {
   "cell_type": "code",
   "execution_count": 12,
   "metadata": {},
   "outputs": [
    {
     "output_type": "execute_result",
     "data": {
      "text/plain": [
       "<matplotlib.legend.Legend at 0x7f168e95c0d0>"
      ]
     },
     "metadata": {},
     "execution_count": 12
    }
   ],
   "source": [
    "plt.close('average time')\n",
    "plt.figure('average time')\n",
    "plt.semilogy(levels, avT, label='estimated')\n",
    "plt.semilogy(levels, anf.avT((levels-gamma)/np.sqrt(gamma), gamma, 0), ':', label='analytic')\n",
    "plt.xlabel('L')\n",
    "plt.ylabel('T_Phi(L)')\n",
    "plt.legend()"
   ]
  }
 ],
 "metadata": {
  "kernelspec": {
   "display_name": "Python 3",
   "language": "python",
   "name": "python3"
  },
  "language_info": {
   "codemirror_mode": {
    "name": "ipython",
    "version": 3
   },
   "file_extension": ".py",
   "mimetype": "text/x-python",
   "name": "python",
   "nbconvert_exporter": "python",
   "pygments_lexer": "ipython3",
   "version": "3.8.5-final"
  }
 },
 "nbformat": 4,
 "nbformat_minor": 4
}