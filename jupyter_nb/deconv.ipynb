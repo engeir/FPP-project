{
 "cells": [
  {
   "cell_type": "code",
   "execution_count": 1,
   "metadata": {
    "tags": []
   },
   "outputs": [
    {
     "output_type": "stream",
     "name": "stdout",
     "text": [
      "Using matplotlib backend: Qt5Agg\nPopulating the interactive namespace from numpy and matplotlib\n"
     ]
    }
   ],
   "source": [
    "%pylab\n",
    "import sys\n",
    "sys.path.append('..')\n",
    "import uit_scripts.shotnoise.gen_shot_noise as gsn\n",
    "import uit_scripts.stat_analysis.deconv_methods as dec"
   ]
  },
  {
   "cell_type": "code",
   "execution_count": 2,
   "metadata": {},
   "outputs": [
    {
     "output_type": "execute_result",
     "data": {
      "text/plain": [
       "<matplotlib.legend.Legend at 0x7f5584869d90>"
      ]
     },
     "metadata": {},
     "execution_count": 2
    }
   ],
   "source": [
    "dt = 1e-2\n",
    "\n",
    "seednum = 0\n",
    "\n",
    "if seednum == 0: # finding pulse shape converges\n",
    "    gamma = 0.5\n",
    "    K = int(1e2)\n",
    "    seed = 1234\n",
    "elif seednum== 1: # finding pulse shape diverges\n",
    "    gamma = 0.5\n",
    "    K = int(1e2)\n",
    "    seed = 333\n",
    "elif seednum == 2: # finding pulse shape diverges\n",
    "    gamma = 3.\n",
    "    K = int(1e4)\n",
    "    seed = 12345\n",
    "    \n",
    "T, S, A, ta = gsn.make_signal(gamma, K, dt, ampta=True, seedTW=seed, seedA=seed)\n",
    "\n",
    "kern = gsn.kern(T-T.mean())\n",
    "\n",
    "ta_index = np.ceil(ta/dt).astype(int)\n",
    "F = np.zeros(T.size)\n",
    "for i in range(ta_index.size):\n",
    "    F[ta_index[i]] += A[i]  # This may need to be multiplied by td.\n",
    "\n",
    "plt.close('data')\n",
    "plt.figure('data')\n",
    "plt.plot(T, S, label='Phi_K')\n",
    "plt.plot(T, F, '-o', label='f_K')\n",
    "plt.plot(T, kern, label='phi')\n",
    "plt.xlabel('t/td')\n",
    "#plt.ylabel('Phi')\n",
    "plt.legend()"
   ]
  },
  {
   "cell_type": "markdown",
   "metadata": {},
   "source": [
    "## Estimate kernel function from data"
   ]
  },
  {
   "cell_type": "code",
   "execution_count": 6,
   "metadata": {
    "tags": []
   },
   "outputs": [
    {
     "output_type": "stream",
     "name": "stdout",
     "text": [
      "i = 200\n",
      "Minimum error at iteration i = 65\n"
     ]
    },
    {
     "output_type": "execute_result",
     "data": {
      "text/plain": [
       "Text(0.5, 0, 't/td')"
      ]
     },
     "metadata": {},
     "execution_count": 6
    }
   ],
   "source": [
    "res, err =  dec.RL_gauss_deconvolve(S, F, 200)\n",
    "\n",
    "plt.close('err')\n",
    "plt.figure('err')\n",
    "plt.loglog(err[1:])\n",
    "\n",
    "plt.close('res')\n",
    "plt.figure('res')\n",
    "plt.plot(T-T.mean(), kern, label='kern')\n",
    "plt.plot(T-T.mean(), res, ':', label='res')\n",
    "plt.legend()\n",
    "plt.xlabel('t/td')"
   ]
  },
  {
   "cell_type": "markdown",
   "metadata": {},
   "source": [
    "## Estimate pulse arrivals from data"
   ]
  },
  {
   "cell_type": "code",
   "execution_count": 4,
   "metadata": {
    "tags": []
   },
   "outputs": [
    {
     "output_type": "stream",
     "name": "stdout",
     "text": [
      "i = 200\n",
      "Minimum error at iteration i = 200\n"
     ]
    },
    {
     "output_type": "execute_result",
     "data": {
      "text/plain": [
       "Text(0, 0.5, 'A')"
      ]
     },
     "metadata": {},
     "execution_count": 4
    }
   ],
   "source": [
    "res, err = dec.RL_gauss_deconvolve(S, kern, 200)\n",
    "res = res[:,0]\n",
    "\n",
    "plt.close('err')\n",
    "plt.figure('err')\n",
    "plt.loglog(err[1:])\n",
    "\n",
    "plt.close('res')\n",
    "plt.figure('res')\n",
    "plt.plot(T, F, '-o', label='f_K')\n",
    "plt.plot(T, res, label='res')\n",
    "plt.legend()\n",
    "plt.xlabel('t/td')\n",
    "\n",
    "ta_est, amp_est = dec.find_amp_ta_savgol(res, T)\n",
    "\n",
    "plt.close('ampta')\n",
    "plt.figure('ampta')\n",
    "plt.plot(ta, A, 'o', label='true')\n",
    "plt.plot(ta_est, amp_est, 'd', label='est')\n",
    "plt.legend()\n",
    "plt.xlabel('t/td')\n",
    "plt.ylabel('A')"
   ]
  },
  {
   "cell_type": "code",
   "execution_count": null,
   "metadata": {},
   "outputs": [],
   "source": []
  }
 ],
 "metadata": {
  "kernelspec": {
   "display_name": "Python 3",
   "language": "python",
   "name": "python3"
  },
  "language_info": {
   "codemirror_mode": {
    "name": "ipython",
    "version": 3
   },
   "file_extension": ".py",
   "mimetype": "text/x-python",
   "name": "python",
   "nbconvert_exporter": "python",
   "pygments_lexer": "ipython3",
   "version": "3.8.5-final"
  }
 },
 "nbformat": 4,
 "nbformat_minor": 4
}