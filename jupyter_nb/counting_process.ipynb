{
 "cells": [
  {
   "cell_type": "markdown",
   "metadata": {},
   "source": [
    "# Counting process\n",
    "\n",
    "In this script, we do some simple calculations of the counting process, seeing the effect of non-exponential waiting times."
   ]
  },
  {
   "cell_type": "code",
   "execution_count": 9,
   "metadata": {
    "scrolled": true,
    "tags": []
   },
   "outputs": [
    {
     "output_type": "stream",
     "name": "stdout",
     "text": [
      "Using matplotlib backend: Qt5Agg\nPopulating the interactive namespace from numpy and matplotlib\n"
     ]
    }
   ],
   "source": [
    "%pylab\n",
    "import scipy.special as ssp\n",
    "import scipy.signal as scs"
   ]
  },
  {
   "cell_type": "code",
   "execution_count": 10,
   "metadata": {
    "scrolled": true
   },
   "outputs": [],
   "source": [
    "def counting_process(rate=10, dist='exp', t_len = int(1e5)):\n",
    "    tb = np.arange(t_len)/t_len\n",
    "    \n",
    "    # approximate number of arrivals\n",
    "    n_arriv = int(10*rate)\n",
    "    \n",
    "    # waiting times\n",
    "    if dist=='exp':\n",
    "        tau = np.random.exponential(1/rate, size=n_arriv)\n",
    "    elif dist=='ray':\n",
    "        mean = 1/rate\n",
    "        par = np.sqrt(2/np.pi)*mean\n",
    "        tau = np.random.rayleigh(par, size=n_arriv)\n",
    "    elif dist == 'deg':\n",
    "        tau = np.abs(np.random.normal(loc=1, scale=1e-3, size=n_arriv))/rate \n",
    "        #tau = np.ones(n_arriv)/rate\n",
    "    elif dist == 'gamma10':\n",
    "        k = 10.\n",
    "        mean = 1./rate\n",
    "        A = mean/k\n",
    "        tau = np.random.gamma(k, scale = A, size=n_arriv)\n",
    "    elif dist =='pareto':\n",
    "        a = 1.5\n",
    "        param = 1./(3.*rate)\n",
    "        tau = (np.random.pareto(a, size=n_arriv) +1)*param\n",
    "    # arrival times\n",
    "    arrivals = np.cumsum(tau)\n",
    "    arrivals = arrivals[arrivals<=1]\n",
    "    \n",
    "    # the counting process\n",
    "    K = np.zeros(tb.size)\n",
    "    for i in range(arrivals.size):\n",
    "        K[int(arrivals[i]*t_len):] += 1\n",
    "    \n",
    "    return tb, K, arrivals"
   ]
  },
  {
   "cell_type": "code",
   "execution_count": 11,
   "metadata": {
    "tags": []
   },
   "outputs": [
    {
     "output_type": "stream",
     "name": "stdout",
     "text": [
      "0.9994326025384219\n",
      "0.9995797186595056\n",
      "1.000031537256575\n",
      "0.9939989377375303\n"
     ]
    }
   ],
   "source": [
    "def plot_tau_dist():\n",
    "    rate = 1.\n",
    "    n_arriv = int(1e6)\n",
    "    \n",
    "    for dist in ['exp', 'ray', 'deg', 'pareto']:\n",
    "        # waiting times\n",
    "        if dist=='exp':\n",
    "            tau = np.random.exponential(1/rate, size=n_arriv)\n",
    "            symb = 'o'\n",
    "        elif dist=='ray':\n",
    "            mean = 1/rate\n",
    "            par = np.sqrt(2/np.pi)*mean\n",
    "            tau = np.random.rayleigh(par, size=n_arriv)\n",
    "            symb = 'd'\n",
    "        elif dist == 'deg':\n",
    "            tau = np.abs(np.random.normal(loc=1, scale=1e-1, size=n_arriv))/rate \n",
    "            symb = 'x'\n",
    "            #tau = np.ones(n_arriv)/rate\n",
    "        elif dist == 'gamma10':\n",
    "            k = 10.\n",
    "            mean = 1./rate\n",
    "            A = mean/k\n",
    "            tau = np.random.gamma(k, scale = A, size=n_arriv)\n",
    "            symb = '*'\n",
    "        \n",
    "        elif dist =='pareto':\n",
    "            a = 1.5\n",
    "            param = 1./(3.*rate)\n",
    "            tau = (np.random.pareto(a, size=n_arriv) +1)*param\n",
    "            symb = '+'\n",
    "        print(tau.mean())\n",
    "        hist, be = np.histogram(tau, 64, density=True)\n",
    "        bins = (be[1:]+be[:-1])/2\n",
    "        \n",
    "        plt.figure('tau dist')\n",
    "        plt.plot(bins, hist, symb, label=dist)\n",
    "    plt.xlabel('tau')\n",
    "    plt.ylabel('p_tau')\n",
    "    plt.legend()\n",
    "    \n",
    "plot_tau_dist()"
   ]
  },
  {
   "cell_type": "code",
   "execution_count": 12,
   "metadata": {
    "scrolled": false
   },
   "outputs": [],
   "source": [
    "def plot_counts(rate=10, dist='exp'):\n",
    "    tb, K, arrivals = counting_process(rate = rate, dist=dist)\n",
    "\n",
    "    \n",
    "    plt.figure('counts')\n",
    "    plt.plot(tb, K, 'C0', label='K(t)')\n",
    "    if rate<=100:\n",
    "        plt.plot(arrivals, np.arange(arrivals.size)+1, 'C1o', label='t_i')\n",
    "    plt.plot(tb, tb*rate, 'C2',label='<K(t)>')\n",
    "    plt.xlabel('t')\n",
    "    plt.ylabel('# events')\n",
    "    plt.legend()\n",
    "\n",
    "plot_counts(rate=10, dist='deg')"
   ]
  },
  {
   "cell_type": "code",
   "execution_count": 13,
   "metadata": {
    "scrolled": true
   },
   "outputs": [],
   "source": [
    "def plot_Kdist(rate=10, dist = 'exp', repeat=1000):\n",
    "    Karr = np.zeros(repeat)\n",
    "    \n",
    "    for i in range(repeat):\n",
    "        tb, K, arrivals = counting_process(rate = rate, dist=dist)\n",
    "        Karr[i] = K[-1]\n",
    "\n",
    "    Kmax = 25\n",
    "    Kbin_edges = np.arange(Kmax+2)-0.5\n",
    "    Kbin = np.arange(Kmax+1)\n",
    "    Khist, _ = np.histogram(Karr, bins=Kbin_edges, density=True)\n",
    "    \n",
    "    plt.figure('K pdf')\n",
    "    Kpdf = np.zeros(Kbin.size)\n",
    "    for k in range(Kbin.size):\n",
    "        Kpdf[k] = rate**Kbin[k]*np.exp(-rate)/ssp.factorial(Kbin[k])\n",
    "    plt.plot(Kbin, Kpdf, '-o', label='Poisson')\n",
    "    plt.plot(Kbin, Khist, 'o', label='empirical')\n",
    "    plt.xlabel('k')\n",
    "    plt.ylabel('p_K(k)')\n",
    "    plt.legend()\n",
    "    \n",
    "plot_Kdist(rate=10., dist='pareto', repeat=1000)"
   ]
  },
  {
   "cell_type": "code",
   "execution_count": 15,
   "metadata": {
    "scrolled": false
   },
   "outputs": [],
   "source": [
    "def plot_arrival_stat(rate=10, dist='exp'):\n",
    "    plt.close('all')\n",
    "    tb, K, arrivals = counting_process(rate = rate, dist=dist, t_len=int(1e6))\n",
    "    \n",
    "    plt.figure('test')\n",
    "    plt.plot(tb, K)\n",
    "    plt.plot(tb, tb*rate)\n",
    "    plt.plot(tb[1:], K[1:]-K[:-1])\n",
    "\n",
    "    hist, edge = np.histogram(arrivals, bins=10, density=True)\n",
    "    \n",
    "    bins = (edge[1:]+edge[:-1])/2\n",
    "    \n",
    "    plt.figure('arrival pmf')\n",
    "    plt.plot(bins, np.ones(bins.size), label='true')\n",
    "    plt.plot(bins, hist, 'o', label='approx')\n",
    "    plt.xlabel('t')\n",
    "    plt.ylabel('p_t_i')\n",
    "    plt.legend()\n",
    "    plt.axis([0,1,0,1.5])\n",
    "    \n",
    "    plt.figure('arrival corrf')\n",
    "    aproc = K[1:]-K[:-1]\n",
    "    na = (aproc-np.mean(aproc))/np.std(aproc)\n",
    "    R = scs.correlate(na, na, mode='full')\n",
    "    \n",
    "    t = np.arange(-(na.size-1), na.size)\n",
    "    R /= (na.size-np.abs(t))\n",
    "    plt.plot(t,R)#, '-o')\n",
    "    plt.xlabel('n')\n",
    "    plt.ylabel('R(t_i, t_(n+i))')\n",
    "    #plt.axis([-200, 200, -0.1,1.1])\n",
    "    \n",
    "    naF = np.fft.rfft(na)\n",
    "    naS = np.real(naF*np.conj(naF))\n",
    "    f = np.fft.rfftfreq(na.size, 1e-5)\n",
    "    plt.figure('arrival PSD lin')\n",
    "    plt.plot(f, naS)\n",
    "\n",
    "    plt.figure('arrival PSD loglog')\n",
    "    plt.loglog(f, naS)\n",
    "    \n",
    "plot_arrival_stat(rate=10000, dist='deg')"
   ]
  },
  {
   "cell_type": "code",
   "execution_count": null,
   "metadata": {
    "scrolled": false
   },
   "outputs": [],
   "source": []
  },
  {
   "cell_type": "code",
   "execution_count": null,
   "metadata": {},
   "outputs": [],
   "source": []
  }
 ],
 "metadata": {
  "kernelspec": {
   "display_name": "Python 3",
   "language": "python",
   "name": "python3"
  },
  "language_info": {
   "codemirror_mode": {
    "name": "ipython",
    "version": 3
   },
   "file_extension": ".py",
   "mimetype": "text/x-python",
   "name": "python",
   "nbconvert_exporter": "python",
   "pygments_lexer": "ipython3",
   "version": "3.8.5-final"
  }
 },
 "nbformat": 4,
 "nbformat_minor": 4
}